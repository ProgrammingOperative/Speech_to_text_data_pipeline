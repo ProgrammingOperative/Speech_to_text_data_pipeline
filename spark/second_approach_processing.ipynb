{
 "cells": [
  {
   "cell_type": "markdown",
   "metadata": {},
   "source": [
    "### CONFIGURATIONS\n",
    "\n",
    "Lets start by making some configurations"
   ]
  },
  {
   "cell_type": "code",
   "execution_count": 1,
   "metadata": {},
   "outputs": [],
   "source": [
    "# Kafka Broker infos\n",
    "kafkaBootstrapServers = \"localhost:9092\" \n",
    "kafkaUser = \"MY_USER\"\n",
    "kafkaSecret = \"MY_SECRET\"\n",
    "\n",
    "# Schema registry infos\n",
    "schemaRegistryApiKey = \"MY_API_KEY\"\n",
    "schemaRegistrySecret = \"MY_SECRET\"\n",
    "schemaRegistryUrl = \"...\"\n",
    "\n",
    "# Topic to consume\n",
    "topicName = \"gps\""
   ]
  },
  {
   "cell_type": "markdown",
   "metadata": {},
   "source": [
    "### SCHEMA REGISTRY\n",
    "- Data comming from Kafka topic is avro-serialized and therefore we have to retreive the avrol schema in order to deserialize the avrol stream."
   ]
  },
  {
   "cell_type": "code",
   "execution_count": 1,
   "metadata": {},
   "outputs": [
    {
     "ename": "NameError",
     "evalue": "name 'schemaRegistryUrl' is not defined",
     "output_type": "error",
     "traceback": [
      "\u001b[0;31m---------------------------------------------------------------------------\u001b[0m",
      "\u001b[0;31mNameError\u001b[0m                                 Traceback (most recent call last)",
      "\u001b[1;32m/home/wacira/10 Academy/week 9/repositories/Speech_to_text_data_pipeline/spark/second_approach_processing.ipynb Cell 2'\u001b[0m in \u001b[0;36m<cell line: 6>\u001b[0;34m()\u001b[0m\n\u001b[1;32m      <a href='vscode-notebook-cell:/home/wacira/10%20Academy/week%209/repositories/Speech_to_text_data_pipeline/spark/second_approach_processing.ipynb#ch0000003?line=0'>1</a>\u001b[0m \u001b[39m# Retrieve GPS Schema grom Schema Registry\u001b[39;00m\n\u001b[1;32m      <a href='vscode-notebook-cell:/home/wacira/10%20Academy/week%209/repositories/Speech_to_text_data_pipeline/spark/second_approach_processing.ipynb#ch0000003?line=2'>3</a>\u001b[0m \u001b[39mfrom\u001b[39;00m \u001b[39mconfluent_kafka\u001b[39;00m\u001b[39m.\u001b[39;00m\u001b[39mschema_registry\u001b[39;00m \u001b[39mimport\u001b[39;00m SchemaRegistryClient\n\u001b[1;32m      <a href='vscode-notebook-cell:/home/wacira/10%20Academy/week%209/repositories/Speech_to_text_data_pipeline/spark/second_approach_processing.ipynb#ch0000003?line=4'>5</a>\u001b[0m schema_registry_conf \u001b[39m=\u001b[39m {\n\u001b[0;32m----> <a href='vscode-notebook-cell:/home/wacira/10%20Academy/week%209/repositories/Speech_to_text_data_pipeline/spark/second_approach_processing.ipynb#ch0000003?line=5'>6</a>\u001b[0m     \u001b[39m'\u001b[39m\u001b[39murl\u001b[39m\u001b[39m'\u001b[39m: schemaRegistryUrl,\n\u001b[1;32m      <a href='vscode-notebook-cell:/home/wacira/10%20Academy/week%209/repositories/Speech_to_text_data_pipeline/spark/second_approach_processing.ipynb#ch0000003?line=6'>7</a>\u001b[0m     \u001b[39m'\u001b[39m\u001b[39mbasic.auth.user.info\u001b[39m\u001b[39m'\u001b[39m: \u001b[39m'\u001b[39m\u001b[39m{}\u001b[39;00m\u001b[39m:\u001b[39m\u001b[39m{}\u001b[39;00m\u001b[39m'\u001b[39m\u001b[39m.\u001b[39mformat(schemaRegistryApiKey, schemaRegistrySecret)}\n\u001b[1;32m      <a href='vscode-notebook-cell:/home/wacira/10%20Academy/week%209/repositories/Speech_to_text_data_pipeline/spark/second_approach_processing.ipynb#ch0000003?line=8'>9</a>\u001b[0m schema_registry_client \u001b[39m=\u001b[39m SchemaRegistryClient(schema_registry_conf)\n\u001b[1;32m     <a href='vscode-notebook-cell:/home/wacira/10%20Academy/week%209/repositories/Speech_to_text_data_pipeline/spark/second_approach_processing.ipynb#ch0000003?line=9'>10</a>\u001b[0m gps_schema_response \u001b[39m=\u001b[39m schema_registry_client\u001b[39m.\u001b[39mget_latest_version(topicName \u001b[39m+\u001b[39m \u001b[39m\"\u001b[39m\u001b[39m-value\u001b[39m\u001b[39m\"\u001b[39m)\u001b[39m.\u001b[39mschema\n",
      "\u001b[0;31mNameError\u001b[0m: name 'schemaRegistryUrl' is not defined"
     ]
    }
   ],
   "source": [
    "# Retrieve GPS Schema grom Schema Registry\n",
    "\n",
    "from confluent_kafka.schema_registry import SchemaRegistryClient\n",
    "\n",
    "schema_registry_conf = {\n",
    "    'url': schemaRegistryUrl,\n",
    "    'basic.auth.user.info': '{}:{}'.format(schemaRegistryApiKey, schemaRegistrySecret)}\n",
    "\n",
    "# Instantiate a new Schema registry client with the authentication details\n",
    "schema_registry_client = SchemaRegistryClient(schema_registry_conf)\n",
    "\n",
    "#Gettting the latest version of the schema (Topic name suffixed by value)\n",
    "gps_schema_response = schema_registry_client.get_latest_version(topicName + \"-value\").schema \n",
    "gps_schema = gps_schema_response.schema_str\n",
    "#  gps_schema var now has a JSON description of our Avro Schema."
   ]
  },
  {
   "cell_type": "markdown",
   "metadata": {},
   "source": [
    "### CONFIGURE THE SINK\n"
   ]
  },
  {
   "cell_type": "code",
   "execution_count": 2,
   "metadata": {},
   "outputs": [],
   "source": [
    "# path_to_bucket = \"/mnt/10ac-batch-5/week9/g3\"\n",
    "bucket = \"/mnt/10ac-batch-5/week9/g3/speech-to-text-delta\"\n",
    "\n",
    "\n",
    "delta_location = bucket + \"/delta-table\"\n",
    "checkpoint_location = bucket + \"/checkpoints\"\n",
    "schema_location = bucket + \"/kafka_schema.json\"\n",
    "\n"
   ]
  },
  {
   "cell_type": "code",
   "execution_count": null,
   "metadata": {},
   "outputs": [],
   "source": [
    "## Alter configurations depending on the directory you \n",
    "\n",
    "if not any(mount.mountPoint == '/mnt/datalake' for mount in dbutils.fs.mounts()):\n",
    "  try:\n",
    "    dbutils.fs.mount(\n",
    "      source = bucket,\n",
    "      mount_point = \"/mnt/datalake\",\n",
    "    )\n",
    "  except Exception as e:\n",
    "    print(e)\n",
    "    print(\"already mounted. Try to unmount first\")"
   ]
  },
  {
   "cell_type": "markdown",
   "metadata": {},
   "source": [
    "### CREATE THE STREAM\n",
    "\n",
    "For the configurations, it is important to note that:\n",
    "- The option startingOffsets controls how we consume the topic.\n",
    "1. latest: we consume only the new incoming events in the topic.\n",
    "2. earliest: we consume all the events present in the topic.\n",
    "\n",
    "Also,\n",
    "Each record consumed from Kafka will have the following schema :\n",
    "\n",
    "- key: Record Key (bytes)\n",
    "- value: Record value (bytes)\n",
    "- topic: Kafka topic the record was in\n",
    "- partition: Topic partition the record was in\n",
    "- offset: Offset value of the record\n",
    "- timestamp: Timestamp associated with the record\n",
    "- timestampType: Enum for the timestamp type"
   ]
  },
  {
   "cell_type": "code",
   "execution_count": 3,
   "metadata": {},
   "outputs": [
    {
     "ename": "NameError",
     "evalue": "name 'spark' is not defined",
     "output_type": "error",
     "traceback": [
      "\u001b[0;31m---------------------------------------------------------------------------\u001b[0m",
      "\u001b[0;31mNameError\u001b[0m                                 Traceback (most recent call last)",
      "\u001b[1;32m/home/wacira/10 Academy/week 9/repositories/Speech_to_text_data_pipeline/spark/second_approach_processing.ipynb Cell 9'\u001b[0m in \u001b[0;36m<cell line: 2>\u001b[0;34m()\u001b[0m\n\u001b[1;32m      <a href='vscode-notebook-cell:/home/wacira/10%20Academy/week%209/repositories/Speech_to_text_data_pipeline/spark/second_approach_processing.ipynb#ch0000016?line=0'>1</a>\u001b[0m gpsDF \u001b[39m=\u001b[39m ( \n\u001b[0;32m----> <a href='vscode-notebook-cell:/home/wacira/10%20Academy/week%209/repositories/Speech_to_text_data_pipeline/spark/second_approach_processing.ipynb#ch0000016?line=1'>2</a>\u001b[0m   spark\n\u001b[1;32m      <a href='vscode-notebook-cell:/home/wacira/10%20Academy/week%209/repositories/Speech_to_text_data_pipeline/spark/second_approach_processing.ipynb#ch0000016?line=2'>3</a>\u001b[0m   \u001b[39m.\u001b[39mreadStream\n\u001b[1;32m      <a href='vscode-notebook-cell:/home/wacira/10%20Academy/week%209/repositories/Speech_to_text_data_pipeline/spark/second_approach_processing.ipynb#ch0000016?line=3'>4</a>\u001b[0m   \u001b[39m.\u001b[39mformat(\u001b[39m\"\u001b[39m\u001b[39mkafka\u001b[39m\u001b[39m\"\u001b[39m)\n\u001b[1;32m      <a href='vscode-notebook-cell:/home/wacira/10%20Academy/week%209/repositories/Speech_to_text_data_pipeline/spark/second_approach_processing.ipynb#ch0000016?line=4'>5</a>\u001b[0m   \u001b[39m.\u001b[39moption(\u001b[39m\"\u001b[39m\u001b[39mkafka.bootstrap.servers\u001b[39m\u001b[39m\"\u001b[39m, kafkaBootstrapServers)\n\u001b[1;32m      <a href='vscode-notebook-cell:/home/wacira/10%20Academy/week%209/repositories/Speech_to_text_data_pipeline/spark/second_approach_processing.ipynb#ch0000016?line=5'>6</a>\u001b[0m   \u001b[39m.\u001b[39moption(\u001b[39m\"\u001b[39m\u001b[39msubscribe\u001b[39m\u001b[39m\"\u001b[39m, topicName)\n\u001b[1;32m      <a href='vscode-notebook-cell:/home/wacira/10%20Academy/week%209/repositories/Speech_to_text_data_pipeline/spark/second_approach_processing.ipynb#ch0000016?line=6'>7</a>\u001b[0m   \u001b[39m.\u001b[39moption(\u001b[39m\"\u001b[39m\u001b[39mstartingOffsets\u001b[39m\u001b[39m\"\u001b[39m, \u001b[39m\"\u001b[39m\u001b[39mlatest\u001b[39m\u001b[39m\"\u001b[39m)\n\u001b[1;32m      <a href='vscode-notebook-cell:/home/wacira/10%20Academy/week%209/repositories/Speech_to_text_data_pipeline/spark/second_approach_processing.ipynb#ch0000016?line=7'>8</a>\u001b[0m   \u001b[39m.\u001b[39moption(\u001b[39m\"\u001b[39m\u001b[39mfailOnDataLoss\u001b[39m\u001b[39m\"\u001b[39m, \u001b[39m\"\u001b[39m\u001b[39mfalse\u001b[39m\u001b[39m\"\u001b[39m)\n\u001b[1;32m      <a href='vscode-notebook-cell:/home/wacira/10%20Academy/week%209/repositories/Speech_to_text_data_pipeline/spark/second_approach_processing.ipynb#ch0000016?line=8'>9</a>\u001b[0m   \u001b[39m.\u001b[39mload()\n\u001b[1;32m     <a href='vscode-notebook-cell:/home/wacira/10%20Academy/week%209/repositories/Speech_to_text_data_pipeline/spark/second_approach_processing.ipynb#ch0000016?line=9'>10</a>\u001b[0m )\n",
      "\u001b[0;31mNameError\u001b[0m: name 'spark' is not defined"
     ]
    }
   ],
   "source": [
    "gpsDF = ( \n",
    "  spark\n",
    "  .readStream\n",
    "  .format(\"kafka\")\n",
    "  .option(\"kafka.bootstrap.servers\", kafkaBootstrapServers)\n",
    "  .option(\"subscribe\", topicName)\n",
    "  .option(\"startingOffsets\", \"latest\")\n",
    "  .option(\"failOnDataLoss\", \"false\")\n",
    "  .load()\n",
    ")"
   ]
  },
  {
   "cell_type": "markdown",
   "metadata": {},
   "source": []
  },
  {
   "cell_type": "markdown",
   "metadata": {},
   "source": [
    "### DESERIALIZATION\n",
    "Now we have to deserialize the ```value``` column from our created dataframe above\n",
    "- We first use the from_avro function from pyspark.sql.avro.function to deserialize the record.\n",
    "- The 5 first bytes of the value retrieved correspond to the Magic Byte (0) and the schema ID so we only take the data after.\n",
    "\n",
    "- We also give to this function the GPS Avro schema retrieved from the schema registry. The last argument is a configuration to control the behavior of the stream when the deserialization fails.\n",
    "\n",
    "\n",
    "\n"
   ]
  },
  {
   "cell_type": "code",
   "execution_count": null,
   "metadata": {},
   "outputs": [],
   "source": [
    "from pyspark.sql.avro.functions import from_avro\n",
    "\n",
    "from_avro_options= {\"mode\":\"PERMISSIVE\"}\n",
    "\n",
    "structuredGpsDf = (\n",
    "  gpsDF\n",
    "  .select(from_avro(fn.expr(\"substring(value, 6, length(value)-5)\"), gps_schema, from_avro_options).alias(\"value\"))\n",
    "  .selectExpr(\"value.timestamp\", \"value.deviceId\", \"value.latitude\", \"value.longitude\", \"value.altitude\", \"value.speed\") \\\n",
    ")\n",
    "\n",
    "display(structuredGpsDf)"
   ]
  },
  {
   "cell_type": "markdown",
   "metadata": {},
   "source": [
    "### WRITING INTO THE DELTA TABLE"
   ]
  },
  {
   "cell_type": "code",
   "execution_count": null,
   "metadata": {},
   "outputs": [],
   "source": [
    "structuredGpsDf.writeStream \\\n",
    ".format(\"delta\") \\\n",
    ".outputMode(\"append\") \\\n",
    ".option(\"mergeSchema\", \"true\") \\\n",
    ".option(\"checkpointLocation\", checkpoint_location )\\\n",
    ".start(delta_location)\n"
   ]
  },
  {
   "cell_type": "code",
   "execution_count": null,
   "metadata": {},
   "outputs": [],
   "source": []
  }
 ],
 "metadata": {
  "kernelspec": {
   "display_name": "Python 3.10.5 ('data_engineering')",
   "language": "python",
   "name": "python3"
  },
  "language_info": {
   "codemirror_mode": {
    "name": "ipython",
    "version": 3
   },
   "file_extension": ".py",
   "mimetype": "text/x-python",
   "name": "python",
   "nbconvert_exporter": "python",
   "pygments_lexer": "ipython3",
   "version": "3.10.5"
  },
  "orig_nbformat": 4,
  "vscode": {
   "interpreter": {
    "hash": "9de2cd8f42cb32e2542cbb467491be9e65e63331d655f6c7b4afb5c7d97ef756"
   }
  }
 },
 "nbformat": 4,
 "nbformat_minor": 2
}
