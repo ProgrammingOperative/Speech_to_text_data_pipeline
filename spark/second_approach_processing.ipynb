{
 "cells": [
  {
   "cell_type": "markdown",
   "metadata": {},
   "source": [
    "### CONFIGURATIONS\n",
    "\n",
    "Lets start by making some configurations"
   ]
  },
  {
   "cell_type": "code",
   "execution_count": 1,
   "metadata": {},
   "outputs": [],
   "source": [
    "# Kafka Broker infos\n",
    "kafkaBootstrapServers = \"localhost:9092\" \n",
    "kafkaUser = \"MY_USER\"\n",
    "kafkaSecret = \"MY_SECRET\"\n",
    "\n",
    "# Schema registry infos\n",
    "schemaRegistryApiKey = \"MY_API_KEY\"\n",
    "schemaRegistrySecret = \"MY_SECRET\"\n",
    "schemaRegistryUrl = \"...\"\n",
    "\n",
    "# Topic to consume\n",
    "topicName = \"gps\""
   ]
  },
  {
   "cell_type": "code",
   "execution_count": null,
   "metadata": {},
   "outputs": [],
   "source": []
  }
 ],
 "metadata": {
  "kernelspec": {
   "display_name": "Python 3.10.4 64-bit",
   "language": "python",
   "name": "python3"
  },
  "language_info": {
   "codemirror_mode": {
    "name": "ipython",
    "version": 3
   },
   "file_extension": ".py",
   "mimetype": "text/x-python",
   "name": "python",
   "nbconvert_exporter": "python",
   "pygments_lexer": "ipython3",
   "version": "3.10.4"
  },
  "orig_nbformat": 4,
  "vscode": {
   "interpreter": {
    "hash": "916dbcbb3f70747c44a77c7bcd40155683ae19c65e1c03b4aa3499c5328201f1"
   }
  }
 },
 "nbformat": 4,
 "nbformat_minor": 2
}
