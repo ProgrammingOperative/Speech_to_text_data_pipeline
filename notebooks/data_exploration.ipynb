{
 "cells": [
  {
   "cell_type": "code",
   "execution_count": 4,
   "metadata": {},
   "outputs": [],
   "source": [
    "%matplotlib inline\n",
    "\n",
    "import matplotlib\n",
    "import pandas as pd\n",
    "import numpy as np\n",
    "from sklearn.utils import shuffle\n",
    "\n",
    "np.random.seed(42) \n",
    "import sys, os"
   ]
  },
  {
   "cell_type": "code",
   "execution_count": 3,
   "metadata": {},
   "outputs": [
    {
     "data": {
      "text/html": [
       "<div>\n",
       "<style scoped>\n",
       "    .dataframe tbody tr th:only-of-type {\n",
       "        vertical-align: middle;\n",
       "    }\n",
       "\n",
       "    .dataframe tbody tr th {\n",
       "        vertical-align: top;\n",
       "    }\n",
       "\n",
       "    .dataframe thead th {\n",
       "        text-align: right;\n",
       "    }\n",
       "</style>\n",
       "<table border=\"1\" class=\"dataframe\">\n",
       "  <thead>\n",
       "    <tr style=\"text-align: right;\">\n",
       "      <th></th>\n",
       "      <th>headline</th>\n",
       "      <th>category</th>\n",
       "      <th>date</th>\n",
       "      <th>views</th>\n",
       "      <th>article</th>\n",
       "      <th>link</th>\n",
       "    </tr>\n",
       "  </thead>\n",
       "  <tbody>\n",
       "    <tr>\n",
       "      <th>44810</th>\n",
       "      <td>በመዲናዋ የጋራ መኖሪያ ቤቶችን ግንባታ ለማጠናቀቅና ለማስጀመር የ20 ቢሊ...</td>\n",
       "      <td>ፖለቲካ</td>\n",
       "      <td>September 14, 2017</td>\n",
       "      <td>Unknown</td>\n",
       "      <td>በአዲስ አበባ የተጀመሩ የጋራ መኖሪያ ቤቶችን ግንባታ ለማጠናቀቅና አዳዲስ...</td>\n",
       "      <td>https://waltainfo.com/am/29360/</td>\n",
       "    </tr>\n",
       "    <tr>\n",
       "      <th>18329</th>\n",
       "      <td>አሸንዳ፣ ሻደይ፣ አሸንድዬ፣ ሶለል፣ ማሪያና ዓይኒ ዋሪ በዓል በዩኔስኮ አ...</td>\n",
       "      <td>ሀገር አቀፍ ዜና</td>\n",
       "      <td>Jan 8, 2020</td>\n",
       "      <td>387</td>\n",
       "      <td>አዲስ አበባ፣ ታህሳስ 29፣ 2012 (ኤፍ.ቢ.ሲ) የአሸንዳ፣ ሻደይ፣ አሸ...</td>\n",
       "      <td>https://www.fanabc.com/%e1%8b%a8%e1%8a%a0%e1%8...</td>\n",
       "    </tr>\n",
       "    <tr>\n",
       "      <th>17644</th>\n",
       "      <td>ግምታዊ ዋጋቸው ከ31 ነጥብ 6 ሚሊየን ብር በላይ የሆኑ የኮንትሮባንድ ዕ...</td>\n",
       "      <td>ሀገር አቀፍ ዜና</td>\n",
       "      <td>Mar 4, 2020</td>\n",
       "      <td>634</td>\n",
       "      <td>አዲስ አበባ ፣ የካቲት 25 ፣ 2012 (ኤፍ ቢ ሲ) ባለፉት አምስት ቀና...</td>\n",
       "      <td>https://www.fanabc.com/%e1%8c%8d%e1%88%9d%e1%8...</td>\n",
       "    </tr>\n",
       "    <tr>\n",
       "      <th>32773</th>\n",
       "      <td>​ባምላክ ተሰማ የዓለም ዋንጫ ለመምራት እጩ ከሆኑ ዳኞች ውስጥ ተካተተ</td>\n",
       "      <td>ስፖርት</td>\n",
       "      <td>November 19, 2017</td>\n",
       "      <td>Unknown</td>\n",
       "      <td>ሩሲያ በ2018 ለምታስተናግደው የዓለም ዋንጫ ፊፋ ጨዋታዎችን ሊመሩ የሚች...</td>\n",
       "      <td>https://soccerethiopia.net/football/31318</td>\n",
       "    </tr>\n",
       "    <tr>\n",
       "      <th>4139</th>\n",
       "      <td>“መንገድ ለሰው” መርሐ ግብር በየሳምንቱ እንደሚካሄድ ተገለፀ</td>\n",
       "      <td>ሀገር አቀፍ ዜና</td>\n",
       "      <td>August 7, 2019</td>\n",
       "      <td>32</td>\n",
       "      <td>አዲስ አበባ፤- “መንገድ ለሰው” በሚል በአዲስ አበባ ከተማ ሲካሄድ የነ...</td>\n",
       "      <td>https://www.press.et/Ama/?p=15606</td>\n",
       "    </tr>\n",
       "  </tbody>\n",
       "</table>\n",
       "</div>"
      ],
      "text/plain": [
       "                                                headline    category  \\\n",
       "44810  በመዲናዋ የጋራ መኖሪያ ቤቶችን ግንባታ ለማጠናቀቅና ለማስጀመር የ20 ቢሊ...        ፖለቲካ   \n",
       "18329  አሸንዳ፣ ሻደይ፣ አሸንድዬ፣ ሶለል፣ ማሪያና ዓይኒ ዋሪ በዓል በዩኔስኮ አ...  ሀገር አቀፍ ዜና   \n",
       "17644  ግምታዊ ዋጋቸው ከ31 ነጥብ 6 ሚሊየን ብር በላይ የሆኑ የኮንትሮባንድ ዕ...  ሀገር አቀፍ ዜና   \n",
       "32773       ​ባምላክ ተሰማ የዓለም ዋንጫ ለመምራት እጩ ከሆኑ ዳኞች ውስጥ ተካተተ        ስፖርት   \n",
       "4139              “መንገድ ለሰው” መርሐ ግብር በየሳምንቱ እንደሚካሄድ ተገለፀ  ሀገር አቀፍ ዜና   \n",
       "\n",
       "                     date    views  \\\n",
       "44810  September 14, 2017  Unknown   \n",
       "18329         Jan 8, 2020      387   \n",
       "17644         Mar 4, 2020      634   \n",
       "32773   November 19, 2017  Unknown   \n",
       "4139       August 7, 2019       32   \n",
       "\n",
       "                                                 article  \\\n",
       "44810  በአዲስ አበባ የተጀመሩ የጋራ መኖሪያ ቤቶችን ግንባታ ለማጠናቀቅና አዳዲስ...   \n",
       "18329  አዲስ አበባ፣ ታህሳስ 29፣ 2012 (ኤፍ.ቢ.ሲ) የአሸንዳ፣ ሻደይ፣ አሸ...   \n",
       "17644  አዲስ አበባ ፣ የካቲት 25 ፣ 2012 (ኤፍ ቢ ሲ) ባለፉት አምስት ቀና...   \n",
       "32773  ሩሲያ በ2018 ለምታስተናግደው የዓለም ዋንጫ ፊፋ ጨዋታዎችን ሊመሩ የሚች...   \n",
       "4139    አዲስ አበባ፤- “መንገድ ለሰው” በሚል በአዲስ አበባ ከተማ ሲካሄድ የነ...   \n",
       "\n",
       "                                                    link  \n",
       "44810                    https://waltainfo.com/am/29360/  \n",
       "18329  https://www.fanabc.com/%e1%8b%a8%e1%8a%a0%e1%8...  \n",
       "17644  https://www.fanabc.com/%e1%8c%8d%e1%88%9d%e1%8...  \n",
       "32773          https://soccerethiopia.net/football/31318  \n",
       "4139                   https://www.press.et/Ama/?p=15606  "
      ]
     },
     "execution_count": 3,
     "metadata": {},
     "output_type": "execute_result"
    }
   ],
   "source": [
    "data = pd.read_csv('../data/Amharic News Dataset.csv')\n",
    "\n",
    "data = shuffle(data)\n",
    "data.head()"
   ]
  },
  {
   "cell_type": "code",
   "execution_count": 5,
   "metadata": {},
   "outputs": [
    {
     "data": {
      "text/plain": [
       "(51483, 6)"
      ]
     },
     "execution_count": 5,
     "metadata": {},
     "output_type": "execute_result"
    }
   ],
   "source": [
    "data.shape"
   ]
  }
 ],
 "metadata": {
  "kernelspec": {
   "display_name": "Python 3.8.13 ('cosal')",
   "language": "python",
   "name": "python3"
  },
  "language_info": {
   "codemirror_mode": {
    "name": "ipython",
    "version": 3
   },
   "file_extension": ".py",
   "mimetype": "text/x-python",
   "name": "python",
   "nbconvert_exporter": "python",
   "pygments_lexer": "ipython3",
   "version": "3.8.13"
  },
  "orig_nbformat": 4,
  "vscode": {
   "interpreter": {
    "hash": "41c6ebc6205276a60830f21a1cf85a85972776fb046ae821d7832f20d8b7fcb0"
   }
  }
 },
 "nbformat": 4,
 "nbformat_minor": 2
}
