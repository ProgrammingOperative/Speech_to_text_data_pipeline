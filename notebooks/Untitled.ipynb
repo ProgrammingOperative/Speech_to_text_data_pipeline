{
 "cells": [
  {
   "cell_type": "code",
   "execution_count": 38,
   "id": "791ad471-ba45-4af3-a72b-e8d428cd69cf",
   "metadata": {},
   "outputs": [],
   "source": [
    "from kafka import KafkaConsumer\n",
    "from json import loads        \n",
    "def consumer_m():\n",
    "    consumer = KafkaConsumer('audio_exp5',\n",
    "                            bootstrap_servers=['localhost:9092'],\n",
    "                            auto_offset_reset='latest',\n",
    "                            enable_auto_commit=False,\n",
    "                            value_deserializer=lambda x: loads(x.decode('utf-8')))\n",
    "\n",
    "    \n",
    "    for message in consumer:\n",
    "        print(message.value)\n",
    "        break"
   ]
  },
  {
   "cell_type": "code",
   "execution_count": null,
   "id": "d978c36b-151e-4360-941f-2decfa2d1b89",
   "metadata": {},
   "outputs": [],
   "source": []
  },
  {
   "cell_type": "code",
   "execution_count": 39,
   "id": "81209c0f-ac00-46f0-8a82-fb5a1d56785c",
   "metadata": {},
   "outputs": [
    {
     "name": "stdout",
     "output_type": "stream",
     "text": [
      "simple message 86\n"
     ]
    }
   ],
   "source": [
    "consumer_m()"
   ]
  },
  {
   "cell_type": "code",
   "execution_count": null,
   "id": "b159f76e-6524-4151-a4e7-8f4505ffd147",
   "metadata": {},
   "outputs": [],
   "source": []
  }
 ],
 "metadata": {
  "kernelspec": {
   "display_name": "py38",
   "language": "python",
   "name": "py38"
  },
  "language_info": {
   "codemirror_mode": {
    "name": "ipython",
    "version": 3
   },
   "file_extension": ".py",
   "mimetype": "text/x-python",
   "name": "python",
   "nbconvert_exporter": "python",
   "pygments_lexer": "ipython3",
   "version": "3.8.13"
  }
 },
 "nbformat": 4,
 "nbformat_minor": 5
}
