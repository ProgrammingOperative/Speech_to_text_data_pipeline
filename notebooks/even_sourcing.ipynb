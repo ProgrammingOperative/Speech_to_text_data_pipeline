{
 "cells": [
  {
   "cell_type": "code",
   "execution_count": 10,
   "id": "793b05b0-c588-46db-994e-5c5b084438b7",
   "metadata": {},
   "outputs": [],
   "source": [
    "from kafka import KafkaProducer\n",
    "from datetime import datetime\n",
    "from json import dumps\n",
    "from time import sleep\n",
    "from kafka import KafkaConsumer\n",
    "from json import loads\n",
    "from kafka.admin import KafkaAdminClient, NewTopic"
   ]
  },
  {
   "cell_type": "code",
   "execution_count": 12,
   "id": "9c4b5da9-d9e4-4aba-8f37-f2ad4ddec0ff",
   "metadata": {},
   "outputs": [],
   "source": [
    "def producer_m():\n",
    "    producer = KafkaProducer(bootstrap_servers='localhost:9092',\n",
    "                             value_serializer=lambda x: dumps(x).encode('utf-8'))\n",
    "    producer.send('corpus_extract', \"ሀሁ ሂሃሄ\")"
   ]
  },
  {
   "cell_type": "code",
   "execution_count": 11,
   "id": "d8956fac-9b09-4889-bc11-972d80afcdc7",
   "metadata": {},
   "outputs": [
    {
     "data": {
      "text/plain": [
       "CreateTopicsResponse_v3(throttle_time_ms=0, topic_errors=[(topic='corpus_extract', error_code=0, error_message=None)])"
      ]
     },
     "execution_count": 11,
     "metadata": {},
     "output_type": "execute_result"
    }
   ],
   "source": [
    "\n",
    "admin_client = KafkaAdminClient(\n",
    "    bootstrap_servers=\"localhost:9092\", \n",
    "    client_id='extractor'\n",
    ")\n",
    "\n",
    "topic_list = []\n",
    "topic_list.append(NewTopic(name=\"corpus_extract\", num_partitions=1, replication_factor=1))\n",
    "admin_client.create_topics(new_topics=topic_list, validate_only=False)"
   ]
  },
  {
   "cell_type": "code",
   "execution_count": 14,
   "id": "0e679e94-39d5-4106-bdcc-005c55b58298",
   "metadata": {},
   "outputs": [],
   "source": [
    "producer_m()"
   ]
  },
  {
   "cell_type": "code",
   "execution_count": null,
   "id": "d92f0b47-6f09-4a09-9d0f-9396a2364575",
   "metadata": {},
   "outputs": [],
   "source": []
  }
 ],
 "metadata": {
  "kernelspec": {
   "display_name": "py38",
   "language": "python",
   "name": "py38"
  },
  "language_info": {
   "codemirror_mode": {
    "name": "ipython",
    "version": 3
   },
   "file_extension": ".py",
   "mimetype": "text/x-python",
   "name": "python",
   "nbconvert_exporter": "python",
   "pygments_lexer": "ipython3",
   "version": "3.8.13"
  }
 },
 "nbformat": 4,
 "nbformat_minor": 5
}
