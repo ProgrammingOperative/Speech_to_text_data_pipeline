{
 "cells": [
  {
   "cell_type": "markdown",
   "id": "44fe01de-dd5d-49f3-b832-02e8edf128b0",
   "metadata": {},
   "source": [
    "# Event Sourcing Experiment"
   ]
  },
  {
   "cell_type": "code",
   "execution_count": 1,
   "id": "8c11e748-1921-4d5e-8756-b4e463421d08",
   "metadata": {},
   "outputs": [],
   "source": [
    "import pandas as pd\n",
    "import sys\n",
    "import os"
   ]
  },
  {
   "cell_type": "code",
   "execution_count": 2,
   "id": "9598090f-4b6a-4d58-a54d-331e0f6ee863",
   "metadata": {},
   "outputs": [],
   "source": [
    "sys.path.append(os.path.abspath(\"../scripts/\"))\n",
    "from event_source import EventSource\n",
    "EV = EventSource()"
   ]
  },
  {
   "cell_type": "code",
   "execution_count": 3,
   "id": "d8956fac-9b09-4889-bc11-972d80afcdc7",
   "metadata": {},
   "outputs": [],
   "source": [
    "# create a topic \n",
    "\n",
    "server = \"localhost:9092\"\n",
    "cl_id = \"extractor\"\n",
    "topic_name = \"corpus_extract\"\n",
    "partitions = 1\n",
    "replica = 1\n",
    "#EV.create_topic(server, cl_id, topic_name, partitions, replica)\n",
    "    "
   ]
  },
  {
   "cell_type": "code",
   "execution_count": 4,
   "id": "5cf63c3a-0fa4-4154-828e-17d39b2af46d",
   "metadata": {},
   "outputs": [],
   "source": [
    "# create Producer\n",
    "prod = EV.producer_init(server, EV.json_serializer)"
   ]
  },
  {
   "cell_type": "code",
   "execution_count": 5,
   "id": "d92f0b47-6f09-4a09-9d0f-9396a2364575",
   "metadata": {},
   "outputs": [
    {
     "data": {
      "text/html": [
       "<div>\n",
       "<style scoped>\n",
       "    .dataframe tbody tr th:only-of-type {\n",
       "        vertical-align: middle;\n",
       "    }\n",
       "\n",
       "    .dataframe tbody tr th {\n",
       "        vertical-align: top;\n",
       "    }\n",
       "\n",
       "    .dataframe thead th {\n",
       "        text-align: right;\n",
       "    }\n",
       "</style>\n",
       "<table border=\"1\" class=\"dataframe\">\n",
       "  <thead>\n",
       "    <tr style=\"text-align: right;\">\n",
       "      <th></th>\n",
       "      <th>headline</th>\n",
       "      <th>category</th>\n",
       "      <th>date</th>\n",
       "      <th>views</th>\n",
       "      <th>article</th>\n",
       "      <th>link</th>\n",
       "    </tr>\n",
       "  </thead>\n",
       "  <tbody>\n",
       "    <tr>\n",
       "      <th>0</th>\n",
       "      <td>የኦሊምፒክ ማጣሪያ ተሳታፊዎች የሚለዩበት ቻምፒዮና እየተካሄደ ይገኛል</td>\n",
       "      <td>ስፖርት</td>\n",
       "      <td>January 14, 2021</td>\n",
       "      <td>2</td>\n",
       "      <td>ብርሃን ፈይሳየኢትዮጵያ ቦክስ ፌዴሬሽን በየዓመቱ የሚያዘጋጀው የክለቦች ቻ...</td>\n",
       "      <td>https://www.press.et/Ama/?p=39481</td>\n",
       "    </tr>\n",
       "    <tr>\n",
       "      <th>1</th>\n",
       "      <td>አዲስ ዘመን ድሮ</td>\n",
       "      <td>መዝናኛ</td>\n",
       "      <td>December 28, 2020</td>\n",
       "      <td>4</td>\n",
       "      <td>የአዲስ ዘመን ጋዜጣ ቀደምት ዘገባዎች በእጅጉ ተነባቢ ዛሬም ላገኛቸው በ...</td>\n",
       "      <td>https://www.press.et/Ama/?p=38334</td>\n",
       "    </tr>\n",
       "    <tr>\n",
       "      <th>2</th>\n",
       "      <td>የአረንጓዴ ጎርፍ በጎ አድራጎት አምባሳደሮች ተሰየሙ</td>\n",
       "      <td>ስፖርት</td>\n",
       "      <td>January 6, 2021</td>\n",
       "      <td>6</td>\n",
       "      <td>ቦጋለ አበበየአዲስ አበባ ከተማ አስተዳደር ስፖርት ኮሚሽን ከኢትዮጵያ አረ...</td>\n",
       "      <td>https://www.press.et/Ama/?p=39010</td>\n",
       "    </tr>\n",
       "    <tr>\n",
       "      <th>3</th>\n",
       "      <td>የሊጉ በቢዝነስ ሞዴል መመራት አበረታች ጅምር መሆኑ ተገለጸ</td>\n",
       "      <td>ስፖርት</td>\n",
       "      <td>January 6, 2021</td>\n",
       "      <td>5</td>\n",
       "      <td>ብርሃን ፈይሳአዲስ አበባ፡- የኢትዮጵያ ፕሪምየር ሊግ በሼር ካምፓኒ እንዲ...</td>\n",
       "      <td>https://www.press.et/Ama/?p=39011</td>\n",
       "    </tr>\n",
       "    <tr>\n",
       "      <th>4</th>\n",
       "      <td>የኦሊምፒክ ሥራ አስፈፃሚው እስከ ቶኪዮ ኦሊምፒክ ማግስት ይቀጥላል</td>\n",
       "      <td>ስፖርት</td>\n",
       "      <td>January 6, 2021</td>\n",
       "      <td>12</td>\n",
       "      <td>ቦጋለ አበበ የኢትዮጵያ ኦሊምፒክ ኮሚቴ አርባ አምስተኛ መደበኛ ጠቅላላ ጉ...</td>\n",
       "      <td>https://www.press.et/Ama/?p=39012</td>\n",
       "    </tr>\n",
       "  </tbody>\n",
       "</table>\n",
       "</div>"
      ],
      "text/plain": [
       "                                      headline category               date  \\\n",
       "0  የኦሊምፒክ ማጣሪያ ተሳታፊዎች የሚለዩበት ቻምፒዮና እየተካሄደ ይገኛል     ስፖርት   January 14, 2021   \n",
       "1                                   አዲስ ዘመን ድሮ     መዝናኛ  December 28, 2020   \n",
       "2             የአረንጓዴ ጎርፍ በጎ አድራጎት አምባሳደሮች ተሰየሙ     ስፖርት    January 6, 2021   \n",
       "3        የሊጉ በቢዝነስ ሞዴል መመራት አበረታች ጅምር መሆኑ ተገለጸ     ስፖርት    January 6, 2021   \n",
       "4    የኦሊምፒክ ሥራ አስፈፃሚው እስከ ቶኪዮ ኦሊምፒክ ማግስት ይቀጥላል     ስፖርት    January 6, 2021   \n",
       "\n",
       "  views                                            article  \\\n",
       "0     2  ብርሃን ፈይሳየኢትዮጵያ ቦክስ ፌዴሬሽን በየዓመቱ የሚያዘጋጀው የክለቦች ቻ...   \n",
       "1     4   የአዲስ ዘመን ጋዜጣ ቀደምት ዘገባዎች በእጅጉ ተነባቢ ዛሬም ላገኛቸው በ...   \n",
       "2     6  ቦጋለ አበበየአዲስ አበባ ከተማ አስተዳደር ስፖርት ኮሚሽን ከኢትዮጵያ አረ...   \n",
       "3     5  ብርሃን ፈይሳአዲስ አበባ፡- የኢትዮጵያ ፕሪምየር ሊግ በሼር ካምፓኒ እንዲ...   \n",
       "4    12  ቦጋለ አበበ የኢትዮጵያ ኦሊምፒክ ኮሚቴ አርባ አምስተኛ መደበኛ ጠቅላላ ጉ...   \n",
       "\n",
       "                                link  \n",
       "0  https://www.press.et/Ama/?p=39481  \n",
       "1  https://www.press.et/Ama/?p=38334  \n",
       "2  https://www.press.et/Ama/?p=39010  \n",
       "3  https://www.press.et/Ama/?p=39011  \n",
       "4  https://www.press.et/Ama/?p=39012  "
      ]
     },
     "execution_count": 5,
     "metadata": {},
     "output_type": "execute_result"
    }
   ],
   "source": [
    "# create a dataframe\n",
    "\n",
    "df = pd.read_csv(\"../data/data.csv\")\n",
    "df.head()"
   ]
  },
  {
   "cell_type": "code",
   "execution_count": 6,
   "id": "c70be40f-6160-4716-8557-6387ccb3cec5",
   "metadata": {},
   "outputs": [
    {
     "data": {
      "text/plain": [
       "['ብርሃን ፈይሳአዲስ አበባ፡- የኢትዮጵያ ፕሪምየር ሊግ በሼር ካምፓኒ እንዲተዳደር መደረጉና የቴሌቪዥን ሽፋን ማግኘቱ ለሌሎች ስፖርቶችም አበረታች ጅምር መሆኑ ተገለጸ',\n",
       " ' በብሄራዊ ስፖርት ምክር ቤት የ2013ዓም የስፖርት ዘርፍ አፈጻጸም ሰነድ ላይ እንደተመለከተው፤የሃገሪቷ ስፖርት በቢዝነስ ሞዴል እንዲመራ በማድረግ ረገድ የኢትዮጵያ እግር ኳስ ፌዴሬሽን ፕሪሚየር ሊጉን (ቤትኪንግ የኢትዮጵያ ፕሪምየር ሊግ) በሼር ካምፓኒ እንዲመራ ማድረጉ መልካም ጅማሬ ነው',\n",
       " ' በአጭር ጊዜ ውስጥ የተደራጀው ካምፓኒው ውድድሩን የቴሌቪዥን መብት እንዲያገኝ እና የውድድር ስያሜውንም መሸጥ መቻሉ በስፖርት ላይ ትልቅ ተስፋን እና መነቃቃት ፈጥሯል',\n",
       " ' የኢፌዴሪ ስፖርት ኮሚሽነር ኤሊያስ ሽኩር፤ ሃገር አቀፍ የስፖርት ማህበራት ስፖርቱን በቢዝነስ ሞዴል ከመምራት አንጻር ሰፊ ስራ መሰራቱን ጠቅሰው፣ ለእዚህም በኢትዮጵያ እግር ኳስ ፌዴሬሽን የሊግ ካምፓኒው መቋቋም ተጠቃሽ መሆኑን አመላክተዋል',\n",
       " ' የውድድሩ መሸጥ በተለይ ክለቦች በገቢ ራሳቸውን እንዲችሉ የሚያደርግ፣ ለተጫዋቾችም መልካም ዕድል የፈጠረና የሃገርን ገጽታ ለመገንባት ትልቅ አስተዋጽኦ ያደረገ ነው ነው ያሉት ኮሚሽነሩ፣በተመሳሳይ የቅዱስ ጊዮርጊስ ስፖርት ክለብም ወደ አክሲዮን የተለወጠበት ሁኔታ ሌሎች ክለቦች ልምድ የሚወስዱበት ነው ብለዋል',\n",
       " ' ይህም በቢዝነስ ሞዴል ከመመራት አንጻር የተጀመሩ ስራዎች እንዳሉ ማሳያ መሆኑንም ጠቅሰዋል',\n",
       " 'የኢፌዴሪ ባህልና ቱሪዝም ሚኒስትር ዶክተር ሂሩት ካሳው በበኩላቸው፤ በዓመቱ\\n(2012ዓም) የሊግ ኮሚቴ በመፍጠር እግር ኳስ የስፖርታዊ ጨዋነትና የስፖርት መርህን የሚያከብር ዘርፍ እንዲሆን መደረጉ መልካም መሆኑን ጠቁመዋል',\n",
       " ' የቅዱስ ጊዮርጊስ ስፖርት ክለብ ራሱን መቻልም ለሌሎች እንዴት ራስን በገቢ መቻል ይቻላል የሚለውን ያሳየ መሆኑን ተናግረው፣ ጥሩ ለውጥ እየመጣ መሆኑን ጠቋሚ ነው ብለዋል',\n",
       " ' ይህንንም አጠናክሮና ተባብሮ ማስኬድ ከተቻለ በስፖርቱ የሚነሱ ጥያቄዎችና ችግሮች ይቀረፋሉ ሲሉም ተስፋቸውን አንጸባርቀዋል',\n",
       " ' ብሔራዊው የስፖርት ሪፎርም ክለቦችና የስፖርት ማህበራት በገቢ ራሳቸውን ችለው ከመንግስት ድጎማ እንዲላቀቁ እንዲሁም ሃብት እንዲያፈሩ ማድረግ አስፈላጊ መሆኑን ያመላክታል',\n",
       " ' እንደ ኢፌዴሪ ስፖርት ኮሚሽን የአፈጻጸም ሪፖርት፤ መንግስት እስካሁን ከክልል እስከ ፌዴራል ባለው ደረጃ 163 ሚሊዮን 177ሺ 165 ብር ድጋፍ አድርጓል',\n",
       " ' ይህንን ለመቅረፍም ሃገር አቀፍ የስፖርት ማህበራት ያሉበት ሁኔታና ቁመና ለማወቅ ቅኝት በማድረግ ያሉበትን ደረጃ ለመለየት ጥረት ተደርጓል',\n",
       " ' የስፖርት ማህበራት ስፖርቱን በቢዝነስ ሞዴል በመምራት ከድጎማ የሚላቀቁበትና የራሳቸውን አቅም በማጎልበት የ10 ዓመቱን የስፖርት ልማት እቅድ ግቦች የሚያሳኩበትን ቁመና መፍጠርም በተያዘው ዓመት የኮሚሽኑ እቅድ መሆኑም ተጠቁሟል',\n",
       " 'አዲስ ዘመን ታህሳስ 28/2013']"
      ]
     },
     "execution_count": 6,
     "metadata": {},
     "output_type": "execute_result"
    }
   ],
   "source": [
    "# check sentences in one article\n",
    "\n",
    "df.iloc[3,4].split(\"።\")"
   ]
  },
  {
   "cell_type": "code",
   "execution_count": 7,
   "id": "e0d54d19-264e-4984-bea2-83e30ce2ff84",
   "metadata": {},
   "outputs": [],
   "source": [
    "EV.extract_sentence(df, \"article\", topic_name, prod, 3, [2,3])"
   ]
  },
  {
   "cell_type": "code",
   "execution_count": null,
   "id": "83c5e336-21d0-4163-a832-27fae5f5fabd",
   "metadata": {},
   "outputs": [],
   "source": []
  }
 ],
 "metadata": {
  "kernelspec": {
   "display_name": "py38",
   "language": "python",
   "name": "py38"
  },
  "language_info": {
   "codemirror_mode": {
    "name": "ipython",
    "version": 3
   },
   "file_extension": ".py",
   "mimetype": "text/x-python",
   "name": "python",
   "nbconvert_exporter": "python",
   "pygments_lexer": "ipython3",
   "version": "3.8.13"
  }
 },
 "nbformat": 4,
 "nbformat_minor": 5
}
