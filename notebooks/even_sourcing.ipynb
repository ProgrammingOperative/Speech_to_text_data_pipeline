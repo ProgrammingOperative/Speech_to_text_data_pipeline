{
 "cells": [
  {
   "cell_type": "markdown",
   "id": "44fe01de-dd5d-49f3-b832-02e8edf128b0",
   "metadata": {},
   "source": [
    "# Event Sourcing Experiment"
   ]
  },
  {
   "cell_type": "code",
   "execution_count": 1,
   "id": "8c11e748-1921-4d5e-8756-b4e463421d08",
   "metadata": {},
   "outputs": [],
   "source": [
    "import pandas as pd\n",
    "import sys\n",
    "import os"
   ]
  },
  {
   "cell_type": "code",
   "execution_count": 2,
   "id": "9598090f-4b6a-4d58-a54d-331e0f6ee863",
   "metadata": {},
   "outputs": [],
   "source": [
    "sys.path.append(os.path.abspath(\"../scripts/\"))\n",
    "from event_source import EventSource\n",
    "EV = EventSource()"
   ]
  },
  {
   "cell_type": "code",
   "execution_count": 6,
   "id": "d8956fac-9b09-4889-bc11-972d80afcdc7",
   "metadata": {},
   "outputs": [],
   "source": [
    "# create a topic \n",
    "\n",
    "server = \"localhost:9092\"\n",
    "cl_id = \"extractor\"\n",
    "topic_name = \"corpus_extract\"\n",
    "partitions = 1\n",
    "replica = 1\n",
    "#EV.create_topic(server, cl_id, topic_name, partitions, replica)\n",
    "    "
   ]
  },
  {
   "cell_type": "code",
   "execution_count": 7,
   "id": "5cf63c3a-0fa4-4154-828e-17d39b2af46d",
   "metadata": {},
   "outputs": [],
   "source": [
    "# create Producer\n",
    "prod = EV.producer_init(server, EV.json_serializer)"
   ]
  },
  {
   "cell_type": "code",
   "execution_count": 5,
   "id": "d92f0b47-6f09-4a09-9d0f-9396a2364575",
   "metadata": {},
   "outputs": [
    {
     "data": {
      "text/html": [
       "<div>\n",
       "<style scoped>\n",
       "    .dataframe tbody tr th:only-of-type {\n",
       "        vertical-align: middle;\n",
       "    }\n",
       "\n",
       "    .dataframe tbody tr th {\n",
       "        vertical-align: top;\n",
       "    }\n",
       "\n",
       "    .dataframe thead th {\n",
       "        text-align: right;\n",
       "    }\n",
       "</style>\n",
       "<table border=\"1\" class=\"dataframe\">\n",
       "  <thead>\n",
       "    <tr style=\"text-align: right;\">\n",
       "      <th></th>\n",
       "      <th>headline</th>\n",
       "      <th>category</th>\n",
       "      <th>date</th>\n",
       "      <th>views</th>\n",
       "      <th>article</th>\n",
       "      <th>link</th>\n",
       "    </tr>\n",
       "  </thead>\n",
       "  <tbody>\n",
       "    <tr>\n",
       "      <th>0</th>\n",
       "      <td>የኦሊምፒክ ማጣሪያ ተሳታፊዎች የሚለዩበት ቻምፒዮና እየተካሄደ ይገኛል</td>\n",
       "      <td>ስፖርት</td>\n",
       "      <td>January 14, 2021</td>\n",
       "      <td>2</td>\n",
       "      <td>ብርሃን ፈይሳየኢትዮጵያ ቦክስ ፌዴሬሽን በየዓመቱ የሚያዘጋጀው የክለቦች ቻ...</td>\n",
       "      <td>https://www.press.et/Ama/?p=39481</td>\n",
       "    </tr>\n",
       "    <tr>\n",
       "      <th>1</th>\n",
       "      <td>አዲስ ዘመን ድሮ</td>\n",
       "      <td>መዝናኛ</td>\n",
       "      <td>December 28, 2020</td>\n",
       "      <td>4</td>\n",
       "      <td>የአዲስ ዘመን ጋዜጣ ቀደምት ዘገባዎች በእጅጉ ተነባቢ ዛሬም ላገኛቸው በ...</td>\n",
       "      <td>https://www.press.et/Ama/?p=38334</td>\n",
       "    </tr>\n",
       "    <tr>\n",
       "      <th>2</th>\n",
       "      <td>የአረንጓዴ ጎርፍ በጎ አድራጎት አምባሳደሮች ተሰየሙ</td>\n",
       "      <td>ስፖርት</td>\n",
       "      <td>January 6, 2021</td>\n",
       "      <td>6</td>\n",
       "      <td>ቦጋለ አበበየአዲስ አበባ ከተማ አስተዳደር ስፖርት ኮሚሽን ከኢትዮጵያ አረ...</td>\n",
       "      <td>https://www.press.et/Ama/?p=39010</td>\n",
       "    </tr>\n",
       "    <tr>\n",
       "      <th>3</th>\n",
       "      <td>የሊጉ በቢዝነስ ሞዴል መመራት አበረታች ጅምር መሆኑ ተገለጸ</td>\n",
       "      <td>ስፖርት</td>\n",
       "      <td>January 6, 2021</td>\n",
       "      <td>5</td>\n",
       "      <td>ብርሃን ፈይሳአዲስ አበባ፡- የኢትዮጵያ ፕሪምየር ሊግ በሼር ካምፓኒ እንዲ...</td>\n",
       "      <td>https://www.press.et/Ama/?p=39011</td>\n",
       "    </tr>\n",
       "    <tr>\n",
       "      <th>4</th>\n",
       "      <td>የኦሊምፒክ ሥራ አስፈፃሚው እስከ ቶኪዮ ኦሊምፒክ ማግስት ይቀጥላል</td>\n",
       "      <td>ስፖርት</td>\n",
       "      <td>January 6, 2021</td>\n",
       "      <td>12</td>\n",
       "      <td>ቦጋለ አበበ የኢትዮጵያ ኦሊምፒክ ኮሚቴ አርባ አምስተኛ መደበኛ ጠቅላላ ጉ...</td>\n",
       "      <td>https://www.press.et/Ama/?p=39012</td>\n",
       "    </tr>\n",
       "  </tbody>\n",
       "</table>\n",
       "</div>"
      ],
      "text/plain": [
       "                                      headline category               date  \\\n",
       "0  የኦሊምፒክ ማጣሪያ ተሳታፊዎች የሚለዩበት ቻምፒዮና እየተካሄደ ይገኛል     ስፖርት   January 14, 2021   \n",
       "1                                   አዲስ ዘመን ድሮ     መዝናኛ  December 28, 2020   \n",
       "2             የአረንጓዴ ጎርፍ በጎ አድራጎት አምባሳደሮች ተሰየሙ     ስፖርት    January 6, 2021   \n",
       "3        የሊጉ በቢዝነስ ሞዴል መመራት አበረታች ጅምር መሆኑ ተገለጸ     ስፖርት    January 6, 2021   \n",
       "4    የኦሊምፒክ ሥራ አስፈፃሚው እስከ ቶኪዮ ኦሊምፒክ ማግስት ይቀጥላል     ስፖርት    January 6, 2021   \n",
       "\n",
       "  views                                            article  \\\n",
       "0     2  ብርሃን ፈይሳየኢትዮጵያ ቦክስ ፌዴሬሽን በየዓመቱ የሚያዘጋጀው የክለቦች ቻ...   \n",
       "1     4   የአዲስ ዘመን ጋዜጣ ቀደምት ዘገባዎች በእጅጉ ተነባቢ ዛሬም ላገኛቸው በ...   \n",
       "2     6  ቦጋለ አበበየአዲስ አበባ ከተማ አስተዳደር ስፖርት ኮሚሽን ከኢትዮጵያ አረ...   \n",
       "3     5  ብርሃን ፈይሳአዲስ አበባ፡- የኢትዮጵያ ፕሪምየር ሊግ በሼር ካምፓኒ እንዲ...   \n",
       "4    12  ቦጋለ አበበ የኢትዮጵያ ኦሊምፒክ ኮሚቴ አርባ አምስተኛ መደበኛ ጠቅላላ ጉ...   \n",
       "\n",
       "                                link  \n",
       "0  https://www.press.et/Ama/?p=39481  \n",
       "1  https://www.press.et/Ama/?p=38334  \n",
       "2  https://www.press.et/Ama/?p=39010  \n",
       "3  https://www.press.et/Ama/?p=39011  \n",
       "4  https://www.press.et/Ama/?p=39012  "
      ]
     },
     "execution_count": 5,
     "metadata": {},
     "output_type": "execute_result"
    }
   ],
   "source": [
    "# create a dataframe\n",
    "\n",
    "df = pd.read_csv(\"../data/data.csv\")\n",
    "df.head()"
   ]
  },
  {
   "cell_type": "code",
   "execution_count": 8,
   "id": "c70be40f-6160-4716-8557-6387ccb3cec5",
   "metadata": {},
   "outputs": [
    {
     "data": {
      "text/plain": [
       "['ብርሃን ፈይሳየኢትዮጵያ ቦክስ ፌዴሬሽን በየዓመቱ የሚያዘጋጀው የክለቦች ቻምፒዮና በአዲስ አበባ ከተማ በመካሄድ ላይ ይገኛል',\n",
       " ' የተሻለ ብቃት ያሳዩ ቦክሰኞች ለቶኪዮ ኦሊምፒክ ማጣሪያ ተሳታፊ እንደሚሆኑም ታውቋል',\n",
       " 'በቦክስ ስፖርት ከሚካሄዱት ዓመታዊ ቻምፒዮናዎች መካከል አንዱ በክለቦች መካከል የሚካሄደው ነው፤ የዚህ ውድድር የመጀመሪያው ዙር በአዲስ አበባ ከተማ ተጀምሯል',\n",
       " ' የኢትዮጵያ ቦክስ ፌዴሬሽን ከአዲስ አበባ ቦክስ ፌዴሬሽን ጋር በመተባበር በተዘጋጀው በዚህ ቻምፒዮና፤ ከኮቪድ 19 ወረርሽኝ መከሰት በኋላ ለመጀመሪያ ጊዜ የተካሄደ ውድድርም ነው',\n",
       " ' በውድድሩም ላይ አምስት ክለቦች ከአዲስ አበባ (ፌዴራልፖሊስ፣ ፌዴራል ማረሚያ ቤቶች፣ አዲስ አበባ ፖሊስ፣ የኢትዮጵያ ወጣቶች ስፖርት አካዳሚ እና ኦሞቲክ ቦክስ)፣ ሁለት ክለቦች ከአማራ ክልል (ጎንደር ከነማ እና ደሴ ከነማ) እንዲሁም ድሬዳዋ ከነማ በድምሩ ስምንት ክለቦች ተሳታፊ መሆናቸውን የኢትዮጵያ ቦክስ ፌዴሬሽን መረጃ ያሳያል',\n",
       " ' በአጠቃላይ ክለቦቻቸውን ወክለውም 12 ሴትና 76 ወንድ ቦክሰኞች በጥቅሉ 88 ተወዳዳሪዎች ተሳታፊ ይሆናሉ',\n",
       " ' ውድድሩ የሚካሄደው በራስ ኃይሉ ስፖርት ትምህርትና ስልጠና ማዕከል ሲሆን፤ በ10 ክብደቶች በ49፣ 52፣ 57፣ 60፣ 63፣ 69፣ 70፣ 81፣ 89 እና 91 ኪሎ ግራሞች እየተካሄደም ይገኛል',\n",
       " ' የቦክስ ስፖርት ከንክኪ ስፖርቶች መካከል አንዱ እንደመሆኑ ጨዋታው በሚካሄድበት ወቅት ቦክሰኞቹ አካላዊ ቅርርብ ሊያደርጉ እና ሊነካኩ ይችላሉ',\n",
       " ' በመሆኑም በዚህ ረገድ ውድድሩ ሙሉ ለሙሉ የኮቪድ 19 ጥንቃቄን በተላበሰ መልኩ እየተካሄደ መሆኑን ነው ፌዴሬሽኑ ያረጋገጠው',\n",
       " ' ይኸውም ተወዳዳሪዎችና አሰልጣኞች የኮቪድ ምርመራ እንዲያደርጉና ከሌሎች ሰዎች ጋር እንዳይገናኙ በካምፕ እንዲቆዩ በማድረግ ነው',\n",
       " ' ከዚህ ባሻገር ውድድር የሚደረግበት ሪንግ ቶሎ ቶሎ በኬሚካል እንዲጸዱ እንዲሁም ተመልካቾች ውድድሩ ላይ እንዳይገኙም ተደርጓል',\n",
       " ' ኮቪድ 19 ዓለም አቀፍ ወረርሽኝ እንደመሆኑ በመላው ዓለም ስፖርታዊ ውድድሮች ተቋርጠው መቆየታቸው የሚታወስ ነው',\n",
       " ' ከእነዚህ ውድድሮች መካከል ለቶኪዮ 2020 ኦሊምፒክ የቦክስ ስፖርት ማጣሪያ የሚካሄደው ውድድር ይጠቀሳል',\n",
       " ' ውድድሮች ወደ እንቅስቃሴ መግባታቸውን ተከትሎም ማጣሪያው የሚቀጥል ይሆናል',\n",
       " ' ኢትዮጵያም በዚህ ቻምፒዮና (በመጀመሪያው ዙር) የተሻለ ብቃት ያሳዩ ቦክሰኞችን በማጣሪያው የምታሳትፍ መሆኑ ታውቋል',\n",
       " ' ቻምፒዮናው አራት ዙሮች ያሉት ሲሆን፤ ሁለተኛው ዙር ከአማራ ክልል ቦክስ ፌዴሬሽን ጋር በመሆን ጎንደር ላይ፣ ሶስተኛውን ከደቡብ ክልል ቦክስ ፌዴሬሽን ጋር በመሆን ወላይታ እንዲሁም የመጨረሻውና የማጠቃለያው ውድድር አዲስ አበባ ላይ የሚካሄድም ይሆናል',\n",
       " ' ቻምፒዮናው ጥር 4/2013 ዓም የተጀመረ ሲሆን እስከ ጥር 7/2013 ዓም ድረስም ይቆያል',\n",
       " '']"
      ]
     },
     "execution_count": 8,
     "metadata": {},
     "output_type": "execute_result"
    }
   ],
   "source": [
    "# check sentences in one article\n",
    "\n",
    "df.iloc[0,4].split(\"።\")"
   ]
  },
  {
   "cell_type": "code",
   "execution_count": 10,
   "id": "e0d54d19-264e-4984-bea2-83e30ce2ff84",
   "metadata": {},
   "outputs": [],
   "source": [
    "EV.extract_sentence(df, \"article\", topic_name, prod, 3)"
   ]
  },
  {
   "cell_type": "code",
   "execution_count": null,
   "id": "83c5e336-21d0-4163-a832-27fae5f5fabd",
   "metadata": {},
   "outputs": [],
   "source": []
  }
 ],
 "metadata": {
  "kernelspec": {
   "display_name": "py38",
   "language": "python",
   "name": "py38"
  },
  "language_info": {
   "codemirror_mode": {
    "name": "ipython",
    "version": 3
   },
   "file_extension": ".py",
   "mimetype": "text/x-python",
   "name": "python",
   "nbconvert_exporter": "python",
   "pygments_lexer": "ipython3",
   "version": "3.8.13"
  }
 },
 "nbformat": 4,
 "nbformat_minor": 5
}
