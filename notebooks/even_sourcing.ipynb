{
 "cells": [
  {
   "cell_type": "markdown",
   "id": "44fe01de-dd5d-49f3-b832-02e8edf128b0",
   "metadata": {},
   "source": [
    "# Event Sourcing Experiment"
   ]
  },
  {
   "cell_type": "code",
   "execution_count": 4,
   "id": "8c11e748-1921-4d5e-8756-b4e463421d08",
   "metadata": {},
   "outputs": [],
   "source": [
    "import pandas as pd\n",
    "import numpy as np\n",
    "import wavio\n",
    "import sys\n",
    "import os"
   ]
  },
  {
   "cell_type": "code",
   "execution_count": 5,
   "id": "9598090f-4b6a-4d58-a54d-331e0f6ee863",
   "metadata": {},
   "outputs": [],
   "source": [
    "sys.path.append(os.path.abspath(\"../scripts/\"))\n",
    "from event_source import EventSource\n",
    "EV = EventSource()"
   ]
  },
  {
   "cell_type": "code",
   "execution_count": 6,
   "id": "8822bfe0",
   "metadata": {},
   "outputs": [],
   "source": [
    "# import audio\n",
    "wav = wavio.read(\"../data/data.wav\")\n",
    "fs, wavefile, width = wav.rate, wav.data, wav.sampwidth\n",
    "data_s = {'data':wavefile.tolist(), 'rate':fs, 'sampwidth':width}"
   ]
  },
  {
   "cell_type": "code",
   "execution_count": 31,
   "id": "d8956fac-9b09-4889-bc11-972d80afcdc7",
   "metadata": {},
   "outputs": [],
   "source": [
    "# create a topic \n",
    "\n",
    "server = \"localhost:9092\"\n",
    "cl_id = \"extractor5\"\n",
    "topic_name = \"audio_exp5\"\n",
    "partitions = 1\n",
    "replica = 1\n",
    "#EV.create_topic(server, cl_id, topic_name, partitions, replica)\n",
    "    "
   ]
  },
  {
   "cell_type": "code",
   "execution_count": 8,
   "id": "5cf63c3a-0fa4-4154-828e-17d39b2af46d",
   "metadata": {},
   "outputs": [],
   "source": [
    "# create Producer\n",
    "prod = EV.producer_init(server, EV.json_serializer)"
   ]
  },
  {
   "cell_type": "code",
   "execution_count": null,
   "id": "d92f0b47-6f09-4a09-9d0f-9396a2364575",
   "metadata": {},
   "outputs": [],
   "source": [
    "# create a dataframe\n",
    "\n",
    "df = pd.read_csv(\"../data/data.csv\")\n",
    "df.head()"
   ]
  },
  {
   "cell_type": "code",
   "execution_count": null,
   "id": "c70be40f-6160-4716-8557-6387ccb3cec5",
   "metadata": {},
   "outputs": [],
   "source": [
    "# check sentences in one article\n",
    "\n",
    "df.iloc[3,4].split(\"።\")"
   ]
  },
  {
   "cell_type": "code",
   "execution_count": null,
   "id": "e0d54d19-264e-4984-bea2-83e30ce2ff84",
   "metadata": {},
   "outputs": [],
   "source": [
    "EV.extract_sentence(df, \"article\", topic_name, prod, 3,)"
   ]
  },
  {
   "cell_type": "code",
   "execution_count": null,
   "id": "6a56b746",
   "metadata": {},
   "outputs": [],
   "source": [
    "wav.data.shape"
   ]
  },
  {
   "cell_type": "code",
   "execution_count": 44,
   "id": "83c5e336-21d0-4163-a832-27fae5f5fabd",
   "metadata": {},
   "outputs": [
    {
     "data": {
      "text/plain": [
       "<kafka.producer.future.FutureRecordMetadata at 0x7fc9e1c182e0>"
      ]
     },
     "execution_count": 44,
     "metadata": {},
     "output_type": "execute_result"
    }
   ],
   "source": [
    "prod.send(topic_name, \"last test another one\")"
   ]
  },
  {
   "cell_type": "code",
   "execution_count": null,
   "id": "0bcb38b8",
   "metadata": {},
   "outputs": [],
   "source": []
  }
 ],
 "metadata": {
  "kernelspec": {
   "display_name": "py38",
   "language": "python",
   "name": "py38"
  },
  "language_info": {
   "codemirror_mode": {
    "name": "ipython",
    "version": 3
   },
   "file_extension": ".py",
   "mimetype": "text/x-python",
   "name": "python",
   "nbconvert_exporter": "python",
   "pygments_lexer": "ipython3",
   "version": "3.8.13"
  }
 },
 "nbformat": 4,
 "nbformat_minor": 5
}
