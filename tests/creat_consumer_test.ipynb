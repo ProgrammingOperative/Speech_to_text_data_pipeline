{
 "cells": [
  {
   "cell_type": "code",
   "execution_count": 1,
   "metadata": {},
   "outputs": [],
   "source": [
    "from kafka import KafkaConsumer\n",
    "from json import loads "
   ]
  },
  {
   "cell_type": "code",
   "execution_count": 2,
   "metadata": {},
   "outputs": [],
   "source": [
    " \n",
    "def consumer_m(topic):\n",
    "    consumer = KafkaConsumer('corpus_extract',\n",
    "                             bootstrap_servers=['localhost:9092'],\n",
    "                             auto_offset_reset='earliest',\n",
    "                             enable_auto_commit=False,\n",
    "                             group_id='my-group',\n",
    "                             value_deserializer=lambda x: loads(x.decode('utf-8')))\n",
    "    return consumer"
   ]
  },
  {
   "cell_type": "code",
   "execution_count": 3,
   "metadata": {},
   "outputs": [],
   "source": [
    "consumer = consumer_m('my-group')"
   ]
  },
  {
   "cell_type": "code",
   "execution_count": 4,
   "metadata": {},
   "outputs": [
    {
     "name": "stdout",
     "output_type": "stream",
     "text": [
      " በርካታ አንጋፋ አትሌቶች በመርሃግብሩ ታድመውም የእውቅናና የምስክር ወረቀት ተቀብለዋል፡፡አዲስ ዘመን ታህሳስ 28/2013\n",
      "ብርሃን ፈይሳአዲስ አበባ፡- የኢትዮጵያ ፕሪምየር ሊግ በሼር ካምፓኒ እንዲተዳደር መደረጉና የቴሌቪዥን ሽፋን ማግኘቱ ለሌሎች ስፖርቶችም አበረታች ጅምር መሆኑ ተገለጸ\n",
      " በብሄራዊ ስፖርት ምክር ቤት የ2013ዓም የስፖርት ዘርፍ አፈጻጸም ሰነድ ላይ እንደተመለከተው፤የሃገሪቷ ስፖርት በቢዝነስ ሞዴል እንዲመራ በማድረግ ረገድ የኢትዮጵያ እግር ኳስ ፌዴሬሽን ፕሪሚየር ሊጉን (ቤትኪንግ የኢትዮጵያ ፕሪምየር ሊግ) በሼር ካምፓኒ እንዲመራ ማድረጉ መልካም ጅማሬ ነው\n",
      " በርካታ አንጋፋ አትሌቶች በመርሃግብሩ ታድመውም የእውቅናና የምስክር ወረቀት ተቀብለዋል፡፡አዲስ ዘመን ታህሳስ 28/2013\n",
      "ብርሃን ፈይሳአዲስ አበባ፡- የኢትዮጵያ ፕሪምየር ሊግ በሼር ካምፓኒ እንዲተዳደር መደረጉና የቴሌቪዥን ሽፋን ማግኘቱ ለሌሎች ስፖርቶችም አበረታች ጅምር መሆኑ ተገለጸ\n",
      " በብሄራዊ ስፖርት ምክር ቤት የ2013ዓም የስፖርት ዘርፍ አፈጻጸም ሰነድ ላይ እንደተመለከተው፤የሃገሪቷ ስፖርት በቢዝነስ ሞዴል እንዲመራ በማድረግ ረገድ የኢትዮጵያ እግር ኳስ ፌዴሬሽን ፕሪሚየር ሊጉን (ቤትኪንግ የኢትዮጵያ ፕሪምየር ሊግ) በሼር ካምፓኒ እንዲመራ ማድረጉ መልካም ጅማሬ ነው\n"
     ]
    }
   ],
   "source": [
    "for message in consumer:\n",
    "        message = message.value\n",
    "        print(message)"
   ]
  }
 ],
 "metadata": {
  "kernelspec": {
   "display_name": "Python 3.9.12 ('base')",
   "language": "python",
   "name": "python3"
  },
  "language_info": {
   "codemirror_mode": {
    "name": "ipython",
    "version": 3
   },
   "file_extension": ".py",
   "mimetype": "text/x-python",
   "name": "python",
   "nbconvert_exporter": "python",
   "pygments_lexer": "ipython3",
   "version": "3.9.12"
  },
  "orig_nbformat": 4,
  "vscode": {
   "interpreter": {
    "hash": "4c2b8563932708ac4f64e3bc4797ea8eb43fc7530baa7f01daadf5b46d7b1fd4"
   }
  }
 },
 "nbformat": 4,
 "nbformat_minor": 2
}
